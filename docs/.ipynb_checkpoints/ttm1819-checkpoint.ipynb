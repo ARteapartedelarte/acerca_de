{
 "cells": [
  {
   "cell_type": "markdown",
   "metadata": {
    "slideshow": {
     "slide_type": "skip"
    }
   },
   "source": [
    "### Instrucciones\n",
    "\n",
    "requires a copy of reveal.js (version 3.x)\n",
    "\n",
    "```\n",
    "jupyter nbconvert --to slides --SlidesExporter.reveal_theme=sky ttm1819.ipynb\n",
    "```"
   ]
  },
  {
   "cell_type": "code",
   "execution_count": 7,
   "metadata": {
    "slideshow": {
     "slide_type": "skip"
    }
   },
   "outputs": [
    {
     "name": "stdout",
     "output_type": "stream",
     "text": [
      "[NbConvertApp] Converting notebook ttm1819.ipynb to slides\n",
      "[NbConvertApp] Writing 256574 bytes to ttm1819.slides.html\n"
     ]
    }
   ],
   "source": [
    "!jupyter nbconvert --to slides --SlidesExporter.reveal_theme=sky ttm1819.ipynb"
   ]
  },
  {
   "cell_type": "markdown",
   "metadata": {
    "slideshow": {
     "slide_type": "slide"
    }
   },
   "source": [
    "# Taller de Talento Matemático Curso 2018-2019\n",
    "\n",
    "<img src=\"files/img/ttm_logo.jpg\" width=\"240\" height=\"240\" align=\"center\">\n",
    "\n",
    "## Programando geometría con BlocksCAD\n",
    "\n",
    "[https://mat3d.github.io/](https://mat3d.github.io/)"
   ]
  },
  {
   "cell_type": "markdown",
   "metadata": {
    "slideshow": {
     "slide_type": "slide"
    }
   },
   "source": [
    "## Introducción\n",
    "\n",
    "* Saludo y presentación\n",
    "    - **Pablo Beltrán Pellicer**\n",
    "    - **Carlos Rodríguez Jaso** \n",
    "    \n",
    "* Objetivo de la sesión\n",
    "    - Conocer las posibilidades de [BlocksCAD](https://www.blockscad3d.com/)\n",
    "    - ..."
   ]
  },
  {
   "cell_type": "markdown",
   "metadata": {
    "slideshow": {
     "slide_type": "slide"
    }
   },
   "source": [
    "## Ruegos y preguntas"
   ]
  },
  {
   "cell_type": "markdown",
   "metadata": {
    "slideshow": {
     "slide_type": "slide"
    }
   },
   "source": [
    "## ¡Gracias por vuestra presencia y a seguir modelando con BlocksCAD!\n",
    "\n",
    "Podéis seguir trabajando en vuestra casa y mandar vuestros progresos a:\n",
    "\n",
    "\n",
    "[#ttmestrellamudejar](https://twitter.com/search?f=tweets&q=%23ttmestrellamudejar&src=typd)"
   ]
  }
 ],
 "metadata": {
  "celltoolbar": "Slideshow",
  "kernelspec": {
   "display_name": "Python 3",
   "language": "python",
   "name": "python3"
  },
  "language_info": {
   "codemirror_mode": {
    "name": "ipython",
    "version": 3
   },
   "file_extension": ".py",
   "mimetype": "text/x-python",
   "name": "python",
   "nbconvert_exporter": "python",
   "pygments_lexer": "ipython3",
   "version": "3.6.5"
  }
 },
 "nbformat": 4,
 "nbformat_minor": 2
}

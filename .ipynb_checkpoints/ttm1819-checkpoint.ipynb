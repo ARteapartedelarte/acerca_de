{
 "cells": [
  {
   "cell_type": "markdown",
   "metadata": {
    "slideshow": {
     "slide_type": "skip"
    }
   },
   "source": [
    "### Instrucciones\n",
    "\n",
    "requires a copy of reveal.js (version 3.x)\n",
    "\n",
    "```\n",
    "jupyter nbconvert --to slides --SlidesExporter.reveal_theme=sky ttm1819.ipynb\n",
    "```"
   ]
  },
  {
   "cell_type": "code",
   "execution_count": 5,
   "metadata": {
    "slideshow": {
     "slide_type": "skip"
    }
   },
   "outputs": [
    {
     "name": "stdout",
     "output_type": "stream",
     "text": [
      "[NbConvertApp] Converting notebook ttm1819.ipynb to slides\n",
      "[NbConvertApp] Writing 260748 bytes to ttm1819.slides.html\n"
     ]
    }
   ],
   "source": [
    "!jupyter nbconvert --to slides --SlidesExporter.reveal_theme=sky --SlidesExporter.reveal_scroll=True ttm1819.ipynb"
   ]
  },
  {
   "cell_type": "markdown",
   "metadata": {
    "slideshow": {
     "slide_type": "slide"
    }
   },
   "source": [
    "# Taller de Talento Matemático Curso 2018-2019\n",
    "\n",
    "<img src=\"files/img/ttm_logo.jpg\" width=\"240\" height=\"240\" align=\"center\">\n",
    "\n",
    "## Programando geometría con BlocksCAD\n",
    "\n",
    "[https://mat3d.github.io/](https://mat3d.github.io/)"
   ]
  },
  {
   "cell_type": "markdown",
   "metadata": {
    "slideshow": {
     "slide_type": "slide"
    }
   },
   "source": [
    "## Introducción\n",
    "\n",
    "* Saludo y presentación\n",
    "    - **Pablo Beltrán Pellicer**\n",
    "    - **Carlos Rodríguez Jaso** \n",
    "    \n",
    "* Objetivo de la sesión\n",
    "    - Conocer las posibilidades de [BlocksCAD](https://www.blockscad3d.com/)\n",
    "    - ..."
   ]
  },
  {
   "cell_type": "markdown",
   "metadata": {
    "slideshow": {
     "slide_type": "slide"
    }
   },
   "source": [
    "# Estrella Mudéjar\n",
    "\n",
    "* Estrella mudéjar sencilla\n",
    "* \"Estrella mudéjar\" sobre un hexágono regular\n",
    "* Estrella mudejar paramétrica sencilla\n",
    "* Estrella mudejar paramétrica avanzada"
   ]
  },
  {
   "cell_type": "markdown",
   "metadata": {
    "slideshow": {
     "slide_type": "subslide"
    }
   },
   "source": [
    "## Estrella mudéjar sencilla\n",
    "\n",
    "#### Modelo\n",
    "Vamos a realizar **una sencilla estrella mudejar** con dos prismas cuadrados de dimensiones 10x10x5 (eje_x, eje_y, eje_z o en cristiano, ancho x largo x alto)\n",
    "\n",
    "<img src=\"files/img/r_est1.png\" width=\"60%\" align=\"center\">"
   ]
  },
  {
   "cell_type": "markdown",
   "metadata": {
    "slideshow": {
     "slide_type": "subslide"
    }
   },
   "source": [
    "## Estrella mudéjar sencilla\n",
    "\n",
    "#### Cuestiones iniciales\n",
    "\n",
    "* ¿Cuánto mide **la apotema de la base cuadrada**?¿Tiene alguna relación con el lado del cuadrado?¿Y si el cuadrado tuviera un lado diferente, la relación se mantendría?\n",
    "* ¿Crees que para otros polígonos regulares va a seguir existiendo una relación entre el lado y el apotema?\n",
    "* ¿Sabes algo de **trigonometría**? En caso afirmativo, las preguntas anteriores deberían resultarte sencillas. En caso contrario, no te preocupes, la parte teórica la facilitaremos para que puedas hacer el modelado si te ves desbordado."
   ]
  },
  {
   "cell_type": "markdown",
   "metadata": {
    "slideshow": {
     "slide_type": "subslide"
    }
   },
   "source": [
    "## Estrella mudéjar sencilla\n",
    "\n",
    "#### Respuestas a las preguntas\n",
    "\n",
    "* La apotema es la mitad del lado. <img src=\"files/img/apotema_cuadrado.png\" width=\"120%\" align=\"center\">\n",
    "\n",
    "* Sí, siempre va a haber relación. La respuesta  está en la semejanza de triángulos rectángulos y nos permitirá calcular bien el radio, la apotema o el lado del polígono regular siempre que nos den uno de ellos. \n",
    "\n",
    "* Las razones trigonométricas de un ángulo agudo expresan la razón (relación) que hay entre los lados de cualquier triángulo rectángulo determinado por dicho ángulo (independientemente de la longitud de cualquiera de sus lados)."
   ]
  },
  {
   "cell_type": "markdown",
   "metadata": {
    "slideshow": {
     "slide_type": "subslide"
    }
   },
   "source": [
    "## Estrella mudéjar sencilla\n",
    "\n",
    "#### Modelado en BlocksCAD\n",
    "\n",
    "| Paso                                                         | Código                                   | Renderizado                                |\n",
    "| ------------------------------------------------------------ | ---------------------------------------- | ------------------------------------------ |\n",
    "| Insertamos un cubo de 10x10x5 centrado en origen             | <img src=\"./img/cubo.png\" width=\"90%\">   | <img src=\"./img/r_cubo.png\" width=\"60%\">   |\n",
    "| Insertamos otro igual pero girado 45º sobre el plano XY (girar el eje Z) | <img src=\"./img/cubo45.png\" width=\"90%\"> | <img src=\"./img/r_cubo45.png\" width=\"60%\"> |\n",
    "| Juntamos los dos objetos para formar un único objeto         | <img src=\"./img/est1.png\" width=\"90%\">   | <img src=\"./img/r_est1.png\" width=\"90%\">   |"
   ]
  },
  {
   "cell_type": "markdown",
   "metadata": {
    "slideshow": {
     "slide_type": "slide"
    }
   },
   "source": [
    "## Ruegos y preguntas"
   ]
  },
  {
   "cell_type": "markdown",
   "metadata": {
    "slideshow": {
     "slide_type": "slide"
    }
   },
   "source": [
    "## ¡Gracias por vuestra presencia y a seguir modelando con BlocksCAD!\n",
    "\n",
    "Podéis seguir trabajando en vuestra casa y mandar vuestros progresos a:\n",
    "\n",
    "\n",
    "[#ttmestrellamudejar](https://twitter.com/search?f=tweets&q=%23ttmestrellamudejar&src=typd)"
   ]
  }
 ],
 "metadata": {
  "celltoolbar": "Slideshow",
  "kernelspec": {
   "display_name": "Python 3",
   "language": "python",
   "name": "python3"
  },
  "language_info": {
   "codemirror_mode": {
    "name": "ipython",
    "version": 3
   },
   "file_extension": ".py",
   "mimetype": "text/x-python",
   "name": "python",
   "nbconvert_exporter": "python",
   "pygments_lexer": "ipython3",
   "version": "3.6.5"
  }
 },
 "nbformat": 4,
 "nbformat_minor": 2
}

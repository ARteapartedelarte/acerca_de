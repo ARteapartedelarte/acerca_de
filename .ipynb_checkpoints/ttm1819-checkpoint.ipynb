{
 "cells": [
  {
   "cell_type": "markdown",
   "metadata": {
    "slideshow": {
     "slide_type": "skip"
    }
   },
   "source": [
    "### Instrucciones\n",
    "\n",
    "requires a copy of reveal.js (version 3.x)\n",
    "\n",
    "```\n",
    "jupyter nbconvert --to slides --SlidesExporter.reveal_theme=sky ttm1819.ipynb\n",
    "```"
   ]
  },
  {
   "cell_type": "code",
   "execution_count": 15,
   "metadata": {
    "slideshow": {
     "slide_type": "skip"
    }
   },
   "outputs": [
    {
     "name": "stdout",
     "output_type": "stream",
     "text": [
      "[NbConvertApp] Converting notebook ttm1819.ipynb to slides\n",
      "[NbConvertApp] Writing 274346 bytes to ttm1819.slides.html\n"
     ]
    }
   ],
   "source": [
    "!jupyter nbconvert --to slides --SlidesExporter.reveal_theme=white --SlidesExporter.reveal_scroll=True ttm1819.ipynb"
   ]
  },
  {
   "cell_type": "markdown",
   "metadata": {
    "slideshow": {
     "slide_type": "slide"
    }
   },
   "source": [
    "# Taller de Talento Matemático Curso 2018-2019\n",
    "\n",
    "<img src=\"files/img/ttm_logo.jpg\" align=\"center\"  width=\"300\" height=\"300\">\n",
    "\n",
    "## Programando geometría con BlocksCAD\n",
    "\n",
    "<img src=\"files/img/attribution-share-alike-creative-commons-license.png\" align=\"left\" style=\"padding-right:30px;\" width=\"180\" height=\"180\">\n",
    "\n",
    "\n",
    "**Página Web:** [https://mat3d.github.io/](https://mat3d.github.io/)\n",
    "\n",
    "**Documentación:** [https://mat3d.github.io/](https://mat3d.github.io/)"
   ]
  },
  {
   "cell_type": "markdown",
   "metadata": {
    "slideshow": {
     "slide_type": "slide"
    }
   },
   "source": [
    "## Introducción\n",
    "\n",
    "* Saludo y presentación\n",
    "    - **Pablo Beltrán Pellicer** *@pbeltranp*\n",
    "    - **Carlos Rodríguez Jaso** *@es3a10*\n",
    "    \n"
   ]
  },
  {
   "cell_type": "markdown",
   "metadata": {
    "slideshow": {
     "slide_type": "fragment"
    }
   },
   "source": [
    "    \n",
    "<img src=\"files/img/intro_bs.png\" align=\"left\"  width=\"280\" height=\"280\">\n",
    "\n",
    "* Objetivo de la sesión: \n",
    "    - Conocer las posibilidades de [BlocksCAD](https://www.blockscad3d.com/) desde un punto de vista matemático \n"
   ]
  },
  {
   "cell_type": "markdown",
   "metadata": {
    "slideshow": {
     "slide_type": "slide"
    }
   },
   "source": [
    "# Introducción a [BlocksCAD](https://www.blockscad3d.com/)\n",
    "\n",
    "**BlocksCAD** es un programa para modelar objetos en 3D sin necesidad de tener elevados conocimientos de programación.\n",
    "\n",
    "La forma más sencilla de trabajar es de manera online a través de su web: [https://www.blockscad3d.com/](https://www.blockscad3d.com/)\n",
    "\n",
    "## El entorno\n",
    "\n",
    "El entorno de trabajo de BlocksCAD lo podemos dividir en tres partes:\n",
    "\n",
    "<img src=\"files/img/zonas_trabajo.png\" width=\"600px\">"
   ]
  },
  {
   "cell_type": "markdown",
   "metadata": {
    "slideshow": {
     "slide_type": "slide"
    }
   },
   "source": [
    "# Estrella Mudéjar\n",
    "\n",
    "* Estrella mudéjar sencilla\n",
    "* \"Estrella mudéjar\" sobre un hexágono regular\n",
    "* Estrella mudejar paramétrica sencilla\n",
    "* Estrella mudejar paramétrica avanzada"
   ]
  },
  {
   "cell_type": "markdown",
   "metadata": {
    "slideshow": {
     "slide_type": "slide"
    }
   },
   "source": [
    "## Estrella mudéjar sencilla\n",
    "\n",
    "#### Modelo\n",
    "Vamos a realizar **una sencilla estrella mudejar** con dos prismas cuadrados de dimensiones 10x10x5 (eje_x, eje_y, eje_z o en cristiano, ancho x largo x alto)\n",
    "\n",
    "<img src=\"files/img/r_est1.png\" width=\"60%\" align=\"center\">"
   ]
  },
  {
   "cell_type": "markdown",
   "metadata": {
    "slideshow": {
     "slide_type": "subslide"
    }
   },
   "source": [
    "## Estrella mudéjar sencilla\n",
    "\n",
    "#### Cuestiones iniciales\n",
    "\n",
    "* ¿Cuánto mide **la apotema de la base cuadrada**?¿Tiene alguna relación con el lado del cuadrado?¿Y si el cuadrado tuviera un lado diferente, la relación se mantendría?\n",
    "* ¿Crees que para otros polígonos regulares va a seguir existiendo una relación entre el lado y el apotema?\n",
    "* ¿Sabes algo de **trigonometría**? En caso afirmativo, las preguntas anteriores deberían resultarte sencillas. En caso contrario, no te preocupes, la parte teórica la facilitaremos para que puedas hacer el modelado si te ves desbordado."
   ]
  },
  {
   "cell_type": "markdown",
   "metadata": {
    "slideshow": {
     "slide_type": "subslide"
    }
   },
   "source": [
    "## Estrella mudéjar sencilla\n",
    "\n",
    "#### Respuestas a las preguntas\n",
    "\n",
    "* La **apotema** es la mitad del lado. <img src=\"files/img/apotema_cuadrado.png\" width=\"120%\" align=\"center\">\n",
    "\n",
    "* Sí, siempre va a haber relación. La respuesta  está en la semejanza de triángulos rectángulos y nos permitirá calcular bien el radio, la apotema o el lado del polígono regular siempre que nos den uno de ellos. \n",
    "\n",
    "* Las razones trigonométricas de un ángulo agudo expresan la razón (relación) que hay entre los lados de cualquier triángulo rectángulo determinado por dicho ángulo (independientemente de la longitud de cualquiera de sus lados)."
   ]
  },
  {
   "cell_type": "markdown",
   "metadata": {
    "slideshow": {
     "slide_type": "subslide"
    }
   },
   "source": [
    "## Estrella mudéjar sencilla\n",
    "\n",
    "#### Modelado en BlocksCAD\n",
    "\n",
    "| Paso                             | Código                                            | Renderizado                                |\n",
    "| ---------------------------------| --------------------------------------------------| ------------------------------------------ |\n",
    "| Insertamos un cubo de 10x10x5 centrado en origen | <img src=\"./img/cubo.png\" width=\"100%\">   | <img src=\"./img/r_cubo.png\" width=\"80%\">   |\n",
    "| Insertamos otro igual pero girado 45º sobre el plano XY (girar el eje Z) | <img src=\"./img/cubo45.png\" width=\"110%\"> | <img src=\"./img/r_cubo45.png\" width=\"80%\"> |\n",
    "| Juntamos los dos objetos para formar un único objeto         | <img src=\"./img/est1.png\" width=\"110%\">   | <img src=\"./img/r_est1.png\" width=\"80%\">   |"
   ]
  },
  {
   "cell_type": "markdown",
   "metadata": {
    "slideshow": {
     "slide_type": "slide"
    }
   },
   "source": [
    "## \"Estrella mudéjar\" sobre un hexágono regular\n",
    "\n",
    "#### Modelo\n",
    "Ahora se propone realizar una especie de estrella mudejar modificada a partir de un hexágono regular de radio y altura que quieras\n",
    "\n",
    "<img src=\"./img/est_hex.png\" width=\"60%\">"
   ]
  },
  {
   "cell_type": "markdown",
   "metadata": {
    "slideshow": {
     "slide_type": "subslide"
    }
   },
   "source": [
    "## \"Estrella mudéjar\" sobre un hexágono regular\n",
    "\n",
    "#### Cuestiones previas\n",
    "\n",
    "* ¿Hacía qué objeto tiende un polígono regular cuando aumentamos el número de lados al polígono?\n",
    "* ¿Cuánto tiene que girar el prisma hexágonal superpuesto para generar las puntas en mitad de las aristas del prisma original?¿Puedes dar una fórmula general que vaya en función del número de lados y que por tanto sirva para el cuadrado o el hexaǵono?"
   ]
  },
  {
   "cell_type": "markdown",
   "metadata": {
    "slideshow": {
     "slide_type": "subslide"
    }
   },
   "source": [
    "## \"Estrella mudéjar\" sobre un hexágono regular\n",
    "\n",
    "#### Consideraciones a las cuestiones\n",
    "\n",
    "* Al aumentar el número de lados, el polígono se va acercando a un círculo como se puede ver en la siguiente animación:\n",
    "\n",
    "\n",
    "\n",
    "  <img src=\"./img/lim_circulo.gif\" width=\"60%\">\n",
    "\n",
    "* **BlocksCAD** interpreta los cilindros de esta manera, como un prisma de base regular con un número de lados elevado. Implementación de un prisma de base triangular frente a un cilindro convencional:\n",
    "\n",
    "  <img src=\"./img/cilindro_nlados.png\" width=\"100%\">\n",
    "\n",
    "* La rotación que hay que hacer es la mitad del ángulo central: $\\alpha=\\frac{180}{nlados}$\n",
    "\n",
    "* **Importante:** Al usar el bloque cilindro modificado por el número de aristas, el parámetro que le damos es el radio del polígono regular y no la longitud de la arista (o lado del polígono regular)\n"
   ]
  },
  {
   "cell_type": "markdown",
   "metadata": {
    "slideshow": {
     "slide_type": "subslide"
    }
   },
   "source": [
    "## \"Estrella mudéjar\" sobre un hexágono regular\n",
    "\n",
    "#### Modelado en BlocksCAD\n",
    "\n",
    "* Se propone como ejercicio su modelado. Al final de la documentación de la wiki tienes un enlace a una posible solución.\n",
    "\n",
    "   <img src=\"./img/18614-NRQ2AH.jpg\" width=\"40%\">\n",
    "\n"
   ]
  },
  {
   "cell_type": "markdown",
   "metadata": {
    "slideshow": {
     "slide_type": "slide"
    }
   },
   "source": [
    "## \"Estrella mudejar\" paramétrica sencilla\n",
    "\n",
    "#### Modelo\n",
    "Se pide modificar la estrella anterior para que acepte los siguientes parámetros o variables:\n",
    "\n",
    "* **Número de lados** del polígono regular que genera la estrella\n",
    "* **Longitud** del radio del polígono\n",
    "* Longitud del radio del polígono que genera el **hueco**\n",
    "\n",
    "**Ejemplo de modelo:**  Estrella de David generada  con triángulos de radios 10 y 8, exterior e interior respectivamente.   \n",
    "\n",
    "<img src=\"./img/est_david.png\" width=\"60%\">\n"
   ]
  },
  {
   "cell_type": "markdown",
   "metadata": {
    "slideshow": {
     "slide_type": "subslide"
    }
   },
   "source": [
    "## \"Estrella mudéjar\" paramétrica sencilla\n",
    "\n",
    "#### Modelado en BlocksCAD\n",
    "\n",
    "* Se propone como ejercicio su modelado. Al final de la documentación de la wiki tienes un enlace a una posible solución.\n",
    "\n",
    "   <img src=\"./img/18614-NRQ2AH.jpg\" width=\"40%\">\n",
    "\n"
   ]
  },
  {
   "cell_type": "markdown",
   "metadata": {
    "slideshow": {
     "slide_type": "slide"
    }
   },
   "source": [
    "## \"Estrella mudéjar\" paramétrica avanzada\n",
    "\n",
    "#### Modelo\n",
    "Vamos a añadir un poco de complejidad al programa. En las estrellas anteriores todas las puntas son iguales. Ahora en lugar de que la mitad de las puntas las genere el prisma poligonal girado se pide que sean los generados por un prisma cuadrado con la diagonal superpuesta sobre la arista (el lado del cuadrado que sea 1/3 de la arista).\n",
    "\n",
    "**Ejemplo:** Para 8 lados tiene que quedar algo así\n",
    "<img src=\"./img/estpar.png\" width=\"60%\">"
   ]
  },
  {
   "cell_type": "markdown",
   "metadata": {
    "slideshow": {
     "slide_type": "slide"
    }
   },
   "source": [
    "## \"Estrella mudéjar\" paramétrica avanzada\n",
    "\n",
    "####  Explicación del Modelo\n",
    "Como una imagen vale más que mil palabras:\n",
    "\n",
    "<img src=\"./img/hex_cuad.png\" width=\"60%\">\n",
    "\n",
    "Se pide por tanto modelar una estrella que tenga como parámetros:\n",
    "\n",
    "* **Número de lados**\n",
    "* Longitud del **lado**\n",
    "* **Grosor** de la estrella: Altura y anchura del contorno. Opcional: Si se quiere se pueden hacer dos parámetros."
   ]
  },
  {
   "cell_type": "markdown",
   "metadata": {
    "slideshow": {
     "slide_type": "subslide"
    }
   },
   "source": [
    "## \"Estrella mudéjar\" paramétrica avanzada\n",
    "\n",
    "#### Cuestiones previas\n",
    "\n",
    "* Hemos visto que los prismas de base poligonal distinta del cuadrado se generan a partir del radio del polígono. ¿Existe alguna fórmula general que relacione la longitud del lado con el radio?¿Y alguna relación entre la apotema y  el lado?\n",
    "* El cuadrado que genera las puntas, ¿Cuánto hay que trasaladarlo?\n",
    "* ¿Cuántos rotaciones hay que hacer del cuadrado para generar todas las puntas?¿Qué ángulo entre ellos?"
   ]
  },
  {
   "cell_type": "markdown",
   "metadata": {
    "slideshow": {
     "slide_type": "subslide"
    }
   },
   "source": [
    "## \"Estrella mudéjar\" paramétrica\n",
    "\n",
    "#### Respuestas a las cuestiones previas\n",
    "\n",
    "* La respuesta a la primera cuestión la encontramos en la trigonometría: Fíjate en la siguiente animación y los ángulos que aparecen:\n",
    "\n",
    "  <img src=\"./img/semi_angulo_central.gif\" width=\"100%\">\n",
    "\n",
    "  * El triángulo formado por el centro del polígono, el  punto medio de un lado y un vértice adyacente es siempre rectángulo. El ángulo correspondiente al centro del polígono es la mitad del ángulo central ($\\frac{\\frac{360}{lados}}{2}$)\n",
    "  * Para un polígono regular de un número de lados determinado (por ejemplo, 5 ), todos los triángulos que construya como en la figura serán semejantes independientemente del tamaño del lado (Tienen dos ángulos iguales, en el ejemplo del pentágono tienen un ángulo recto y otro de 180/5 grados )\n",
    "  * Al ser semejantes los lados son proporcionales, o dicho de otra forma, la razón entre lados se mantiene constante y dependen exclusivamente del ángulo que se apoya en el centro del polígono. A esas razones se les llaman razones trigonométricas.. La principales son:\n",
    "    * seno = lado opuesto/hipotenusa\n",
    "    * coseno = lado contiguo/hipotenusa\n",
    "    * tangente = lado opuesto/lado contiguo\n",
    "  * Traducidas a elementos del polígono serían:\n",
    "    * $\\sin{\\alpha}=\\frac{semilado}{radio}$\n",
    "    * $\\cos{\\alpha}=\\frac{apotema}{radio}$\n",
    "    * $\\tan{\\alpha}=\\frac{semilado}{apotema}$\n",
    "  * Por tanto, conocido el polígono y por tanto el ángulo necesario y el lado del polígono, podemos calcular el radio y la apotema. Veámoslo con un ejemplo, para un pentágono de lado 5:\n",
    "    * radio = (5/2)/seno(180/5)\n",
    "    * apotema = (5/2)/tan(180/5)\n",
    "\n",
    "* El cuadrado hay que trasladarlo la apotema del polígono\n",
    "\n",
    "* Habrá que hacer tantas puntas como lados y habrá que rotar  la mitad del ángulo central: $\\alpha=\\frac{180}{nlados}$"
   ]
  },
  {
   "cell_type": "markdown",
   "metadata": {
    "slideshow": {
     "slide_type": "subslide"
    }
   },
   "source": [
    "## \"Estrella mudéjar\"\"paramétrica\n",
    "\n",
    "#### Modelado en BlocksCAD\n",
    "\n",
    "* Se propone como ejercicio su modelado. Al final de la documentación de la wiki tienes un enlace a una posible solución.\n",
    "\n",
    "   <img src=\"./img/18614-NRQ2AH.jpg\" width=\"40%\">\n"
   ]
  },
  {
   "cell_type": "markdown",
   "metadata": {
    "slideshow": {
     "slide_type": "slide"
    }
   },
   "source": [
    "## Ruegos y preguntas"
   ]
  },
  {
   "cell_type": "markdown",
   "metadata": {
    "slideshow": {
     "slide_type": "slide"
    }
   },
   "source": [
    "## ¡Gracias por vuestra presencia y a seguir modelando con BlocksCAD!\n",
    "\n",
    "Podéis seguir trabajando en vuestra casa y mandar vuestros progresos a:\n",
    "\n",
    "\n",
    "[#ttmestrellamudejar](https://twitter.com/search?f=tweets&q=%23ttmestrellamudejar&src=typd)"
   ]
  }
 ],
 "metadata": {
  "celltoolbar": "Slideshow",
  "kernelspec": {
   "display_name": "Python 3",
   "language": "python",
   "name": "python3"
  },
  "language_info": {
   "codemirror_mode": {
    "name": "ipython",
    "version": 3
   },
   "file_extension": ".py",
   "mimetype": "text/x-python",
   "name": "python",
   "nbconvert_exporter": "python",
   "pygments_lexer": "ipython3",
   "version": "3.6.5"
  }
 },
 "nbformat": 4,
 "nbformat_minor": 2
}
